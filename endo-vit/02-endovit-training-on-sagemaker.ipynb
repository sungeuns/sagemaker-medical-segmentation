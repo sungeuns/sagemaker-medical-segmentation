{
 "cells": [
  {
   "cell_type": "code",
   "execution_count": null,
   "id": "b9c776e8-8967-4e60-b896-ed9c001617ab",
   "metadata": {},
   "outputs": [],
   "source": []
  },
  {
   "cell_type": "markdown",
   "id": "be9e4d2d-097b-4293-9c67-689a1e1ddeed",
   "metadata": {},
   "source": [
    "## SageMaker 활용\n",
    "\n",
    "- 데이터가 준비되었으면, local 에서 샘플 데이터로 학습을 진행해 볼 수 있습니다.\n",
    "- Local 에서 정상적으로 동작하면 sagemaker 에 올려서 테스트 해 볼 수 있습니다.\n"
   ]
  },
  {
   "cell_type": "code",
   "execution_count": null,
   "id": "63caaef1-758f-46b5-b244-c766723ce3c9",
   "metadata": {
    "tags": []
   },
   "outputs": [],
   "source": [
    "import time\n",
    "import sagemaker\n",
    "import boto3\n",
    "from sagemaker import image_uris\n",
    "from sagemaker.utils import name_from_base\n",
    "from sagemaker.inputs import TrainingInput\n",
    "from sagemaker.pytorch import PyTorch\n",
    "\n",
    "sess = sagemaker.Session()\n",
    "region = boto3.Session().region_name\n",
    "bucket = sess.default_bucket()\n",
    "role = sagemaker.get_execution_role()\n",
    "\n",
    "print(f\"Default bucket : {bucket}\")\n",
    "print(f\"Role : {role}\")"
   ]
  },
  {
   "cell_type": "code",
   "execution_count": null,
   "id": "12979d37-2b8e-4aa1-b128-f011ccdab88b",
   "metadata": {},
   "outputs": [],
   "source": []
  },
  {
   "cell_type": "code",
   "execution_count": null,
   "id": "95be2a78-1fc4-4b4b-96c4-78d49aa78f79",
   "metadata": {
    "tags": []
   },
   "outputs": [],
   "source": [
    "s3_pretrained_uri = f\"s3://{bucket}/workshop/endo-vit/models\"\n",
    "s3_data_uri = f\"s3://{bucket}/workshop/endo-vit/data/segmentation\""
   ]
  },
  {
   "cell_type": "code",
   "execution_count": null,
   "id": "22aa35c0-9c5a-4222-bd7d-3d4134e12b8f",
   "metadata": {},
   "outputs": [],
   "source": []
  },
  {
   "cell_type": "code",
   "execution_count": null,
   "id": "5ae1ec4d-e463-4a3c-b3df-3c7daf82b573",
   "metadata": {
    "tags": []
   },
   "outputs": [],
   "source": [
    "# instance_type = \"ml.g5.2xlarge\"\n",
    "# instance_type = \"ml.g4dn.2xlarge\"\n",
    "instance_type = \"ml.p3.2xlarge\"  # quota 부족시 고려\n",
    "# instance_type = \"ml.g4dn.12xlarge\" # Multi-GPU \n",
    "\n",
    "if instance_type in ['local', 'local_gpu']:\n",
    "    from sagemaker.local import LocalSession\n",
    "    sm_session = LocalSession()\n",
    "    sm_session.config = {'local': {'local_code': True}}\n",
    "else:\n",
    "    sm_session = sagemaker.session.Session()\n",
    "    \n",
    "print(f\"instance type : {instance_type}\")"
   ]
  },
  {
   "cell_type": "code",
   "execution_count": null,
   "id": "bfc2972d-5964-4ca5-8abe-cdc10ee4236b",
   "metadata": {
    "tags": []
   },
   "outputs": [],
   "source": [
    "image_uri = image_uris.retrieve(\n",
    "    framework=\"pytorch\",\n",
    "    region=region,\n",
    "    version=\"1.13\",\n",
    "    py_version=\"py39\",\n",
    "    instance_type=instance_type,\n",
    "    image_scope=\"training\"\n",
    ")\n",
    "\n",
    "print(f\"Image URI for sagemaker training: {image_uri}\")"
   ]
  },
  {
   "cell_type": "code",
   "execution_count": null,
   "id": "91fc4ccd-23f6-43e8-b8ad-0b7fa32d0443",
   "metadata": {
    "tags": []
   },
   "outputs": [],
   "source": [
    "job_name = \"endo-vit-seg-pt\"\n",
    "s3_checkpoint_uri = f\"s3://{bucket}/workshop/endo-vit/{job_name}/checkpoints\"\n",
    "\n",
    "hyper_params = {}\n",
    "\n",
    "max_run = 60 * 60 * 12 # 12 hrs\n",
    "   \n",
    "use_spot_instances = False\n",
    "if use_spot_instances:\n",
    "    max_wait = 12 * 60 * 60 # 12 hours: spot instance waiting + max runtime\n",
    "else:\n",
    "    max_wait = None\n"
   ]
  },
  {
   "cell_type": "code",
   "execution_count": null,
   "id": "779be160-d95f-49bd-a22c-167337c85f8b",
   "metadata": {
    "tags": []
   },
   "outputs": [],
   "source": [
    "# Create the Estimator\n",
    "estimator = PyTorch(\n",
    "    image_uri=image_uri,\n",
    "    entry_point='pretrain_script_sm.sh',    # train script\n",
    "    source_dir='endovit-code',              # directory which includes all the files needed for training\n",
    "    instance_type=instance_type,            # instances type used for the training job\n",
    "    instance_count=1,                       # the number of instances used for training\n",
    "    base_job_name=job_name,                 # the name of the training job\n",
    "    role=role,                              # Iam role used in training job to access AWS ressources, e.g. S3\n",
    "    sagemaker_session=sess,                 # sagemaker session\n",
    "    volume_size=200,                        # the size of the EBS volume in GB\n",
    "    hyperparameters=hyper_params,\n",
    "    debugger_hook_config=False,\n",
    "    disable_profile=True,\n",
    "    use_spot_instances=use_spot_instances,\n",
    "    max_run=max_run,\n",
    "    max_wait=max_wait if use_spot_instances else None,\n",
    "    checkpoint_s3_uri=s3_checkpoint_uri if instance_type not in ['local', 'local_gpu'] else None,\n",
    "    checkpoint_local_path='/opt/ml/checkpoints' if instance_type not in ['local', 'local_gpu'] else None,\n",
    ")"
   ]
  },
  {
   "cell_type": "code",
   "execution_count": null,
   "id": "3fde7a09-76e9-432d-8481-d0b84979232b",
   "metadata": {
    "tags": []
   },
   "outputs": [],
   "source": [
    "LOCAL_MODE = False\n",
    "\n",
    "if LOCAL_MODE:\n",
    "    # local mode 사용시 적절하게 변경필요\n",
    "    estimator.fit(\n",
    "        {\n",
    "            \"pretrained\": f'file://./pt-models', \n",
    "            \"training\": f'file://./sample-data'\n",
    "        },\n",
    "        wait=False\n",
    "    )\n",
    "else:\n",
    "    fast_file = lambda x: TrainingInput(x, input_mode=\"FastFile\")\n",
    "    estimator.fit(\n",
    "        {\n",
    "            \"pretrained\": fast_file(s3_pretrained_uri),\n",
    "            \"training\": fast_file(s3_data_uri),\n",
    "        },\n",
    "        wait=False\n",
    "    )\n",
    "\n",
    "    from IPython.display import display, HTML\n",
    "\n",
    "    def make_console_link(region, train_job_name, train_task='[Training]'):\n",
    "        train_job_link = f'<b> {train_task} Review <a target=\"blank\" href=\"https://console.aws.amazon.com/sagemaker/home?region={region}#/jobs/{train_job_name}\">Training Job</a></b>'   \n",
    "        cloudwatch_link = f'<b> {train_task} Review <a target=\"blank\" href=\"https://console.aws.amazon.com/cloudwatch/home?region={region}#logStream:group=/aws/sagemaker/TrainingJobs;prefix={train_job_name};streamFilter=typeLogStreamPrefix\">CloudWatch Logs</a></b>'\n",
    "        return train_job_link, cloudwatch_link  \n",
    "\n",
    "    train_job_name = estimator.latest_training_job.job_name\n",
    "    train_job_link, cloudwatch_link = make_console_link(region, train_job_name, '[Endo-ViT-Training]')\n",
    "\n",
    "    display(HTML(train_job_link))\n",
    "    display(HTML(cloudwatch_link))"
   ]
  },
  {
   "cell_type": "code",
   "execution_count": null,
   "id": "140ecace-abba-48f5-a864-2ec8769b01f5",
   "metadata": {
    "tags": []
   },
   "outputs": [],
   "source": [
    "print(f\"Job name: {train_job_name}\")"
   ]
  },
  {
   "cell_type": "code",
   "execution_count": null,
   "id": "cc1b5363-0de8-4e82-b8f4-393ebda5c82a",
   "metadata": {
    "tags": []
   },
   "outputs": [],
   "source": [
    "# estimator.logs()\n"
   ]
  },
  {
   "cell_type": "code",
   "execution_count": null,
   "id": "607164a0-2114-42e0-ba9d-75654edeb13f",
   "metadata": {},
   "outputs": [],
   "source": []
  },
  {
   "cell_type": "code",
   "execution_count": null,
   "id": "51ea0364-0b0e-4fdc-a139-c3ccb45eb940",
   "metadata": {},
   "outputs": [],
   "source": []
  },
  {
   "cell_type": "code",
   "execution_count": null,
   "id": "7e0b67dc-889f-4ad1-af09-d2b08fcd3f95",
   "metadata": {
    "tags": []
   },
   "outputs": [],
   "source": []
  },
  {
   "cell_type": "code",
   "execution_count": null,
   "id": "615dd2e8-aecf-4c4b-943f-304425b02378",
   "metadata": {
    "tags": []
   },
   "outputs": [],
   "source": []
  },
  {
   "cell_type": "code",
   "execution_count": null,
   "id": "c71d7b3b-62a4-4f52-ba25-bceab2857e36",
   "metadata": {},
   "outputs": [],
   "source": []
  },
  {
   "cell_type": "code",
   "execution_count": null,
   "id": "ef2f700f-881c-4999-94ab-a0f80b72ca7c",
   "metadata": {},
   "outputs": [],
   "source": []
  },
  {
   "cell_type": "code",
   "execution_count": null,
   "id": "6f200910-2f3c-4aa8-93af-a2cd9992454d",
   "metadata": {},
   "outputs": [],
   "source": []
  },
  {
   "cell_type": "code",
   "execution_count": null,
   "id": "5f0f720b-93f3-4a1a-8290-03d77b09dbdc",
   "metadata": {
    "tags": []
   },
   "outputs": [],
   "source": []
  },
  {
   "cell_type": "code",
   "execution_count": null,
   "id": "b90088ac-c22f-4796-9a72-5d1455d19e1b",
   "metadata": {},
   "outputs": [],
   "source": []
  }
 ],
 "metadata": {
  "kernelspec": {
   "display_name": "conda_pytorch_p310",
   "language": "python",
   "name": "conda_pytorch_p310"
  },
  "language_info": {
   "codemirror_mode": {
    "name": "ipython",
    "version": 3
   },
   "file_extension": ".py",
   "mimetype": "text/x-python",
   "name": "python",
   "nbconvert_exporter": "python",
   "pygments_lexer": "ipython3",
   "version": "3.10.14"
  }
 },
 "nbformat": 4,
 "nbformat_minor": 5
}
