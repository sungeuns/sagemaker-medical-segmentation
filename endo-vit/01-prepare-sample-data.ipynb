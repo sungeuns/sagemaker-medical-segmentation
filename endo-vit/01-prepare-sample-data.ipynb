{
 "cells": [
  {
   "cell_type": "markdown",
   "id": "98a23fcf-4bb6-4f7e-bd67-b1a4c391aa8c",
   "metadata": {},
   "source": [
    "## 데이터 준비\n",
    "\n",
    "- 미리 준비된 sample data와 pretrained model을 다운로드 받아서 s3에 올려놓습니다.\n",
    "- `prepare_dataset.sh`에서 제공된 CloudFront Distribution ID로 바꾸어 주어야 합니다."
   ]
  },
  {
   "cell_type": "code",
   "execution_count": null,
   "id": "8cb730f5-d3e2-4459-8dab-fa41a2773dea",
   "metadata": {},
   "outputs": [],
   "source": [
    "!./prepare_dataset.sh"
   ]
  },
  {
   "cell_type": "code",
   "execution_count": null,
   "id": "273b3cf9-70ad-45a4-b25d-5f33092c14e1",
   "metadata": {},
   "outputs": [],
   "source": [
    "import sagemaker\n",
    "\n",
    "sess = sagemaker.Session()\n",
    "bucket = sess.default_bucket()\n",
    "\n",
    "print(f\"Default bucket : {bucket}\")"
   ]
  },
  {
   "cell_type": "code",
   "execution_count": null,
   "id": "61f198e7-8742-46fc-8969-63d03b5d89e8",
   "metadata": {},
   "outputs": [],
   "source": [
    "%%bash\n",
    "aws configure set default.s3.max_concurrent_requests 100\n",
    "aws configure set default.s3.max_queue_size 10000\n",
    "aws configure set default.s3.multipart_threshold 1GB\n",
    "aws configure set default.s3.multipart_chunksize 64MB"
   ]
  },
  {
   "cell_type": "code",
   "execution_count": null,
   "id": "664a2e6f-ba79-4e04-8049-626d188146c3",
   "metadata": {},
   "outputs": [],
   "source": [
    "!aws s3 cp pt-models/mae_pretrain_vit_base_full.pth s3://{bucket}/workshop/endo-vit/models/"
   ]
  },
  {
   "cell_type": "code",
   "execution_count": null,
   "id": "1e55d8d1-61aa-4663-a067-c26ceb67a3d9",
   "metadata": {},
   "outputs": [],
   "source": [
    "!aws s3 cp --recursive sample-data/sample_validation/ s3://{bucket}/workshop/endo-vit/data/segmentation/validation/"
   ]
  },
  {
   "cell_type": "code",
   "execution_count": null,
   "id": "1908efb3-f1d2-4ff6-bc39-9fc9a2581add",
   "metadata": {},
   "outputs": [],
   "source": [
    "!aws s3 cp --recursive sample-data/sample_segmentation/ s3://{bucket}/workshop/endo-vit/data/segmentation/train/"
   ]
  },
  {
   "cell_type": "code",
   "execution_count": null,
   "id": "dcc7654e-8a3e-4aec-825a-8edded14570c",
   "metadata": {},
   "outputs": [],
   "source": []
  }
 ],
 "metadata": {
  "kernelspec": {
   "display_name": "conda_pytorch_p310",
   "language": "python",
   "name": "conda_pytorch_p310"
  },
  "language_info": {
   "codemirror_mode": {
    "name": "ipython",
    "version": 3
   },
   "file_extension": ".py",
   "mimetype": "text/x-python",
   "name": "python",
   "nbconvert_exporter": "python",
   "pygments_lexer": "ipython3",
   "version": "3.10.14"
  }
 },
 "nbformat": 4,
 "nbformat_minor": 5
}
