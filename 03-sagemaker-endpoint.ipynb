{
 "cells": [
  {
   "cell_type": "markdown",
   "id": "1a42ae8e-c68c-4e54-8609-d8df068f7604",
   "metadata": {},
   "source": [
    "### SageMaker endpoint\n",
    "\n",
    "- 학습이 완료된 모델을 endpoint에 배포하여 복잡한 아키텍쳐 구성 없이 쉽게 서비스를 production 에서 활용할 수 있습니다.\n",
    "- SageMaker endpoint 를 위한 script를 구성하는 방법은 여러가지가 있지만 여기서는 기본적인 방법을 활용하였습니다. `code` 디렉토리의 `inference.py` 가 예시 스크립트입니다."
   ]
  },
  {
   "cell_type": "code",
   "execution_count": null,
   "id": "09efb71f-c8c5-49f3-8885-2e385100af5c",
   "metadata": {},
   "outputs": [],
   "source": [
    "%store -r"
   ]
  },
  {
   "cell_type": "code",
   "execution_count": null,
   "id": "61873a2c-1d75-4408-8d13-3539efcd4a30",
   "metadata": {
    "tags": []
   },
   "outputs": [],
   "source": [
    "print(prefix)\n",
    "print(test_demo_files)\n",
    "# print(bucket)"
   ]
  },
  {
   "cell_type": "code",
   "execution_count": null,
   "id": "3d5b1ccc-e8fa-4874-b7d4-27ed70c46849",
   "metadata": {
    "tags": []
   },
   "outputs": [],
   "source": [
    "import torch\n",
    "import matplotlib.pyplot as plt\n",
    "\n",
    "import sagemaker\n",
    "from sagemaker import get_execution_role\n",
    "from sagemaker.estimator import Estimator"
   ]
  },
  {
   "cell_type": "code",
   "execution_count": null,
   "id": "03293d44-997b-4deb-a3f7-c251a3037d4f",
   "metadata": {
    "tags": []
   },
   "outputs": [],
   "source": [
    "sess = sagemaker.Session()\n",
    "role = get_execution_role()\n",
    "region = sess.boto_session.region_name\n",
    "bucket = sess.default_bucket()"
   ]
  },
  {
   "cell_type": "code",
   "execution_count": null,
   "id": "f5a7d9c4-7eb2-4a05-8dff-7e1afc8a5b43",
   "metadata": {
    "tags": []
   },
   "outputs": [],
   "source": [
    "\n",
    "# training_job_name = \"pytorch-training-2023-09-08-08-13-53-086\"\n",
    "training_job_name = \"pytorch-training-2023-09-08-15-50-22-545\"\n",
    "estimator = Estimator.attach(training_job_name)"
   ]
  },
  {
   "cell_type": "code",
   "execution_count": null,
   "id": "fb8eda53-95dc-4749-99cb-71f5726c776c",
   "metadata": {
    "tags": []
   },
   "outputs": [],
   "source": [
    "print(f\"- model data: {estimator.model_data}\")\n",
    "print(f\"- training image uri : {estimator.training_image_uri()}\")"
   ]
  },
  {
   "cell_type": "markdown",
   "id": "ce018d0d-4df0-41f3-9b5d-6249912c4680",
   "metadata": {},
   "source": [
    "### SageMaker endpoint를 위한 container 설정\n",
    "\n",
    "- Inference 용도의 컨테이너를 직접 제작할 수도 있고 제공되는 것을 선택할 수도 있다."
   ]
  },
  {
   "cell_type": "code",
   "execution_count": null,
   "id": "d0637952-96b7-4588-af05-bfc156587066",
   "metadata": {
    "tags": []
   },
   "outputs": [],
   "source": [
    "from sagemaker import image_uris\n",
    "\n",
    "instance_type = \"ml.m5.4xlarge\"\n",
    "container_image_uri = image_uris.retrieve(\n",
    "    framework='pytorch',\n",
    "    region=region,\n",
    "    version='1.13.1',\n",
    "    py_version='py39',\n",
    "    # version='1.6',\n",
    "    # py_version='py3',\n",
    "    image_scope='inference',\n",
    "    instance_type=instance_type)\n",
    "\n",
    "print(f\"inference container uri: {container_image_uri}\")"
   ]
  },
  {
   "cell_type": "markdown",
   "id": "95290207-51d1-4578-a4a2-1c2af432c9a4",
   "metadata": {},
   "source": [
    "### 배포 진행\n",
    "\n",
    "- 이 때 기존에 `model.tar.gz` 에 있는 것을 그대로 사용하게 해도 되지만, 로컬에 있는 코드를 활용하도록 하는것도 가능합니다.\n",
    "- 좀 더 빠르게 디버깅 하기 위해서는 로컬 코드를 사용하도록 하는 것이 좀 더 편리합니다."
   ]
  },
  {
   "cell_type": "code",
   "execution_count": null,
   "id": "45821f0d-9649-4be0-8cd1-91d558d6894a",
   "metadata": {
    "tags": []
   },
   "outputs": [],
   "source": [
    "## realtime endpoint\n",
    "predictor = estimator.deploy(\n",
    "    initial_instance_count=1,\n",
    "    source_dir=\"code\",\n",
    "    entry_point=\"inference.py\", \n",
    "    instance_type=instance_type,\n",
    "    image_uri=container_image_uri,\n",
    "    serializer=sagemaker.serializers.JSONSerializer(),\n",
    "    deserializer=sagemaker.deserializers.JSONDeserializer()\n",
    ")"
   ]
  },
  {
   "cell_type": "code",
   "execution_count": null,
   "id": "5396a6d0-7eb0-42e9-8b76-4dc767f07a9c",
   "metadata": {},
   "outputs": [],
   "source": [
    "print(predictor)"
   ]
  },
  {
   "cell_type": "code",
   "execution_count": null,
   "id": "e4a811fa-4937-4c11-ada8-9071d59444b2",
   "metadata": {},
   "outputs": [],
   "source": []
  },
  {
   "cell_type": "markdown",
   "id": "d0be9bfe-cda2-4136-ba0d-4bb6d39816c6",
   "metadata": {},
   "source": [
    "### 테스트 진행\n",
    "\n",
    "- 성공적으로 배포가 되었다면, 테스트를 진행해 볼 수 있습니다."
   ]
  },
  {
   "cell_type": "code",
   "execution_count": null,
   "id": "314983b5-5bfc-4b6a-bfd1-d393175ea03b",
   "metadata": {},
   "outputs": [],
   "source": [
    "prefix_key = f\"{prefix}/test\"\n",
    "file = test_demo_files[0][\"image\"].split(\"/\")[-1]\n",
    "print(file)\n",
    "print(prefix_key)"
   ]
  },
  {
   "cell_type": "code",
   "execution_count": null,
   "id": "c015de08-e494-48fe-a0f3-4074db8895f4",
   "metadata": {},
   "outputs": [],
   "source": [
    "###Option 2 - use \"nslicestart\" and \"nsliceend\"\n",
    "\n",
    "nslicestart=50\n",
    "nsliceend=55\n",
    "nslice=0"
   ]
  },
  {
   "cell_type": "code",
   "execution_count": null,
   "id": "c0e463e3-6a47-4f4b-8bb4-11a700da3152",
   "metadata": {},
   "outputs": [],
   "source": [
    "%%time\n",
    "test_demo_preds = []\n",
    "\n",
    "###Option 1 - use totalslice\n",
    "# for counter in range(totalslice): #for using totalslice\n",
    "\n",
    "###Option 2 - use \"nslicestart\" and \"nsliceend\"\n",
    "for counter in range(int(nslicestart),int(nsliceend)): #for using \"slicestart\" and \"sliceend\"\n",
    "    payload={\n",
    "        \"bucket\": bucket,\n",
    "        \"key\": prefix_key,\n",
    "        \"file\": file,\n",
    "        \"nslice\": counter\n",
    "    }\n",
    "    response_pred = predictor.predict(payload)\n",
    "    print(\"inference for slice\", counter)\n",
    "    test_demo_preds.append(response_pred)"
   ]
  },
  {
   "cell_type": "code",
   "execution_count": null,
   "id": "673f0978-15b8-4394-995f-e43682f674e0",
   "metadata": {},
   "outputs": [],
   "source": [
    "test_demo_ds = check_ds\n",
    "test_demo_loader = check_loader\n",
    "test_demo_data = check_data"
   ]
  },
  {
   "cell_type": "code",
   "execution_count": null,
   "id": "753713bd-ed44-438a-8ae8-b5aa4b71188a",
   "metadata": {},
   "outputs": [],
   "source": [
    "torch.tensor(test_demo_preds[nslice][\"pred\"]).size()"
   ]
  },
  {
   "cell_type": "code",
   "execution_count": null,
   "id": "04f6dc32-9ecf-449d-b6f3-b1ee8ab225b5",
   "metadata": {},
   "outputs": [],
   "source": [
    "image, label = (test_demo_data[\"image\"][0][0], test_demo_data[\"label\"][0][0])\n",
    "print(f\"image shape: {image.shape}, label shape: {label.shape}\")\n",
    "\n",
    "# Visualization\n",
    "# plot the slice [:, :, nslice]\n",
    "plt.figure(\"check\", (18, 6))\n",
    "plt.subplot(1, 3, 1)\n",
    "plt.title(\"image\")\n",
    "plt.imshow(test_demo_data[\"image\"][0, 0, :, :, nslicestart+nslice], cmap=\"gray\")\n",
    "plt.subplot(1, 3, 2)\n",
    "plt.title(\"label\")\n",
    "plt.imshow(test_demo_data[\"label\"][0, 0, :, :, nslicestart+nslice])\n",
    "plt.subplot(1, 3, 3)\n",
    "plt.title(\"output\")\n",
    "plt.imshow(test_demo_preds[nslice][\"pred\"])\n",
    "\n",
    "plt.show()"
   ]
  },
  {
   "cell_type": "code",
   "execution_count": null,
   "id": "f71b77b5-f8d0-4a56-8156-06cc53ee30ad",
   "metadata": {},
   "outputs": [],
   "source": []
  },
  {
   "cell_type": "code",
   "execution_count": null,
   "id": "7234b15a-d552-45c2-911a-f432d1c7321f",
   "metadata": {},
   "outputs": [],
   "source": [
    "import ast\n",
    "import numpy as np"
   ]
  },
  {
   "cell_type": "code",
   "execution_count": null,
   "id": "95296172-bf26-40b3-a64c-26ce2e70f784",
   "metadata": {},
   "outputs": [],
   "source": [
    "%%time\n",
    "slicestart=70\n",
    "sliceend=75\n",
    "sliceselect = f\"{slicestart}:{sliceend}\"\n",
    "\n",
    "payload_multi = {\n",
    "    \"bucket\": bucket,\n",
    "    \"key\": prefix_key,\n",
    "    \"file\": file,\n",
    "    \"nslice\": sliceselect\n",
    "        }\n",
    "\n",
    "response_multi_pred = predictor.predict(payload_multi)"
   ]
  },
  {
   "cell_type": "code",
   "execution_count": null,
   "id": "31830785-1d7a-4aee-9948-03d2378d97ff",
   "metadata": {},
   "outputs": [],
   "source": [
    "multi_output_file = response_multi_pred[\"s3_path\"]\n",
    "\n",
    "download_response = sagemaker.s3.S3Downloader.read_file(multi_output_file, sagemaker_session=sess)\n",
    "\n",
    "multi_output_json = ast.literal_eval(download_response)\n",
    "multi_output = multi_output_json[\"pred\"]"
   ]
  },
  {
   "cell_type": "code",
   "execution_count": null,
   "id": "a8eb2be3-bc77-4f08-8b09-dbf38cd57f45",
   "metadata": {},
   "outputs": [],
   "source": [
    "output_array = np.array(multi_output)\n",
    "output_array.shape"
   ]
  },
  {
   "cell_type": "code",
   "execution_count": null,
   "id": "0bada5e0-8441-435d-b861-f749e4391140",
   "metadata": {},
   "outputs": [],
   "source": [
    "image1, label1 = (test_demo_data[\"image\"][0][0], test_demo_data[\"label\"][0][0])\n",
    "print(f\"image shape: {image1.shape}, label shape: {label1.shape}\\n\")\n",
    "for nslice in range(output_array.shape[-1]):\n",
    "    # Visualization\n",
    "    # plot the slice [:, :, nslice]\n",
    "    print(f\"Slice {slicestart+nslice}\")\n",
    "    plt.figure(\"check\", (18, 6))\n",
    "    plt.subplot(1, 3, 1)\n",
    "    plt.title(\"image\")\n",
    "    plt.imshow(test_demo_data[\"image\"][0, 0, :, :, slicestart+nslice], cmap=\"gray\")\n",
    "    plt.subplot(1, 3, 2)\n",
    "    plt.title(\"label\")\n",
    "    plt.imshow(test_demo_data[\"label\"][0, 0, :, :, slicestart+nslice])\n",
    "    plt.subplot(1, 3, 3)\n",
    "    plt.title(\"output\")\n",
    "    plt.imshow(output_array[:,:,nslice])\n",
    "\n",
    "    plt.show()"
   ]
  },
  {
   "cell_type": "code",
   "execution_count": null,
   "id": "f2d6a9f4-071d-4475-9411-8caea31c8a28",
   "metadata": {},
   "outputs": [],
   "source": []
  },
  {
   "cell_type": "code",
   "execution_count": null,
   "id": "41c48611-d754-45fc-bd2e-b6ba571de2da",
   "metadata": {},
   "outputs": [],
   "source": []
  },
  {
   "cell_type": "code",
   "execution_count": null,
   "id": "2d4becfd-a855-444c-9ec0-ae90f260061a",
   "metadata": {},
   "outputs": [],
   "source": [
    "%%time\n",
    "\n",
    "payload_all={\n",
    "    \"bucket\": bucket,\n",
    "    \"key\": prefix_key,\n",
    "    \"file\": file,\n",
    "    \"nslice\": \"all\"\n",
    "        }\n",
    "\n",
    "response_all_pred=predictor.predict(payload_all)"
   ]
  },
  {
   "cell_type": "code",
   "execution_count": null,
   "id": "43daaf00-621c-42f9-82df-14f003854cde",
   "metadata": {
    "tags": []
   },
   "outputs": [],
   "source": [
    "all_output_file = response_all_pred[\"s3_path\"]\n",
    "\n",
    "download_all_response = sagemaker.s3.S3Downloader.read_file(all_output_file, sagemaker_session=sess)\n",
    "\n",
    "all_output_json = ast.literal_eval(download_all_response)\n",
    "all_output = all_output_json[\"pred\"]"
   ]
  },
  {
   "cell_type": "code",
   "execution_count": null,
   "id": "2cd46d78-bde2-4c78-94e8-86dc93a9687b",
   "metadata": {
    "tags": []
   },
   "outputs": [],
   "source": [
    "output_all_array = np.array(all_output)\n",
    "output_all_array.shape"
   ]
  },
  {
   "cell_type": "code",
   "execution_count": null,
   "id": "3ea32d0f-e770-43fc-9dbb-13317ea3a56e",
   "metadata": {
    "tags": []
   },
   "outputs": [],
   "source": [
    "n_all_slice = 45"
   ]
  },
  {
   "cell_type": "code",
   "execution_count": null,
   "id": "18654d53-8356-48c2-a748-88bfb674af1c",
   "metadata": {
    "tags": []
   },
   "outputs": [],
   "source": [
    "image2, label2 = (test_demo_data[\"image\"][0][0], test_demo_data[\"label\"][0][0])\n",
    "print(f\"image shape: {image2.shape}, label shape: {label2.shape}\")\n",
    "\n",
    "# Visualization\n",
    "# plot the slice [:, :, nslice]\n",
    "plt.figure(\"check\", (18, 6))\n",
    "plt.subplot(1, 3, 1)\n",
    "plt.title(\"image\")\n",
    "plt.imshow(test_demo_data[\"image\"][0, 0, :, :, n_all_slice], cmap=\"gray\")\n",
    "plt.subplot(1, 3, 2)\n",
    "plt.title(\"label\")\n",
    "plt.imshow(test_demo_data[\"label\"][0, 0, :, :, n_all_slice])\n",
    "plt.subplot(1, 3, 3)\n",
    "plt.title(\"output\")\n",
    "plt.imshow(output_all_array[:,:,n_all_slice])\n",
    "\n",
    "plt.show()"
   ]
  },
  {
   "cell_type": "code",
   "execution_count": null,
   "id": "2c908336-907c-4465-b7b1-168fbb5921e6",
   "metadata": {},
   "outputs": [],
   "source": []
  },
  {
   "cell_type": "code",
   "execution_count": null,
   "id": "6c40d1c6-8b19-49f7-af60-4cd30b96bb5c",
   "metadata": {},
   "outputs": [],
   "source": []
  },
  {
   "cell_type": "code",
   "execution_count": null,
   "id": "57806e98-de8b-4d93-8b48-f7d37dcd06ec",
   "metadata": {},
   "outputs": [],
   "source": []
  },
  {
   "cell_type": "code",
   "execution_count": null,
   "id": "3c7296a3-bd07-4f5e-b8e1-13665332fa28",
   "metadata": {},
   "outputs": [],
   "source": []
  },
  {
   "cell_type": "code",
   "execution_count": null,
   "id": "a1cb94dc-4538-4cd0-83a4-e8e9cb851bd0",
   "metadata": {},
   "outputs": [],
   "source": []
  },
  {
   "cell_type": "code",
   "execution_count": null,
   "id": "d9db85b1-caf5-442f-8e80-1188520e2490",
   "metadata": {},
   "outputs": [],
   "source": []
  }
 ],
 "metadata": {
  "kernelspec": {
   "display_name": "conda_pytorch_p310",
   "language": "python",
   "name": "conda_pytorch_p310"
  },
  "language_info": {
   "codemirror_mode": {
    "name": "ipython",
    "version": 3
   },
   "file_extension": ".py",
   "mimetype": "text/x-python",
   "name": "python",
   "nbconvert_exporter": "python",
   "pygments_lexer": "ipython3",
   "version": "3.10.10"
  }
 },
 "nbformat": 4,
 "nbformat_minor": 5
}
