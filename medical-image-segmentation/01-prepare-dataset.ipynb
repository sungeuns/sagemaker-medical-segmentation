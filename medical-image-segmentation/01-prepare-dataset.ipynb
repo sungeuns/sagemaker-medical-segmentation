{
 "cells": [
  {
   "cell_type": "markdown",
   "id": "d5cc55bc-343b-44cf-8dd3-654d2197a7c5",
   "metadata": {},
   "source": [
    "\n",
    "## Prepare dataset\n",
    "\n",
    "- 데이터를 준비하는 과정입니다.\n",
    "- Spleen dataset은 여기에서 받을 수 있습니다: https://registry.opendata.aws/msd/.\n",
    "- 해당 예시에서는 monai 코드를 참고하였습니다: https://github.com/aws-samples/amazon-sagemaker-medical-imaging-with-monai/blob/main/Segmentation/MONAI_BYOS_spleen_segmentation_3D_Demo.ipynb\n",
    "\n",
    "------\n",
    "Target: Spleen  \n",
    "Modality: CT  \n",
    "Size: 61 3D volumes (31 Training + 9 Validation + 1 Testing with label and 20 Testing without label)  \n",
    "Source: Memorial Sloan Kettering Cancer Center  \n",
    "Challenge: Large ranging foreground size\n",
    "\n",
    "\n",
    "### 패키지 설치\n",
    "\n",
    "- 패키지가 설치되지 않았다면 필요한 패키지를 설치합니다."
   ]
  },
  {
   "cell_type": "code",
   "execution_count": null,
   "id": "8dbf2321-593d-462e-8300-b71512276755",
   "metadata": {
    "tags": []
   },
   "outputs": [],
   "source": [
    "install = False\n",
    "\n",
    "if install:\n",
    "    !pip install  \"monai[all]==0.8.0\"\n",
    "    !python -c \"import monai\" || pip install -q \"monai-weekly[gdown, nibabel, tqdm, ignite]\"\n",
    "    !python -c \"import matplotlib\" || pip install -q matplotlib\n",
    "    %matplotlib inline"
   ]
  },
  {
   "cell_type": "code",
   "execution_count": null,
   "id": "d7e1d83c-be13-4226-8b67-cd387af950fa",
   "metadata": {
    "tags": []
   },
   "outputs": [],
   "source": [
    "import os\n",
    "import shutil\n",
    "import glob\n",
    "import numpy as np\n",
    "import json\n",
    "import matplotlib.pyplot as plt\n",
    "from pathlib import Path\n",
    "\n",
    "from monai.utils import first, set_determinism\n",
    "from monai.transforms import (\n",
    "    AsDiscrete,\n",
    "    AsDiscreted,\n",
    "    EnsureChannelFirstd,\n",
    "    Compose,\n",
    "    CropForegroundd,\n",
    "    LoadImage,\n",
    "    LoadImaged,\n",
    "    Orientationd,\n",
    "    RandCropByPosNegLabeld,\n",
    "    ScaleIntensityRanged,\n",
    "    Spacingd,\n",
    "    EnsureTyped,\n",
    "    EnsureType,\n",
    "    Invertd\n",
    ")\n",
    "from monai.handlers.utils import from_engine\n",
    "from monai.networks.nets import UNet\n",
    "from monai.networks.layers import Norm\n",
    "from monai.metrics import DiceMetric\n",
    "from monai.losses import DiceLoss\n",
    "from monai.inferers import sliding_window_inference\n",
    "from monai.data import CacheDataset, DataLoader, Dataset, decollate_batch\n",
    "from monai.config import print_config\n",
    "from monai.apps import download_and_extract"
   ]
  },
  {
   "cell_type": "markdown",
   "id": "b9e5059b-2bc2-4589-9f40-fb2c3c1fca97",
   "metadata": {},
   "source": [
    "### 데이터 다운로드\n",
    "\n",
    "- monai 데이터셋 샘플 경로에서 데이터를 다운로드 받습니다.\n",
    "- 전처리를 진행한 후 샘플 이미지를 확인 해 봅니다."
   ]
  },
  {
   "cell_type": "code",
   "execution_count": null,
   "id": "6634b2d6-7cfd-4074-bc6e-99d261b7d336",
   "metadata": {
    "tags": []
   },
   "outputs": [],
   "source": [
    "resource = \"https://msd-for-monai.s3-us-west-2.amazonaws.com/Task09_Spleen.tar\"\n",
    "md5 = \"410d4a301da4e5b2f6f86ec3ddba524e\"\n",
    "compressed_file = \"./Task09_Spleen.tar\"\n",
    "\n",
    "data_dir = \"Spleen3D\" \n",
    "\n",
    "if not os.path.exists(data_dir):\n",
    "    download_and_extract(resource, compressed_file, f\"{data_dir}/datasets\", md5)"
   ]
  },
  {
   "cell_type": "code",
   "execution_count": null,
   "id": "adfc1e64-5397-46df-8e10-d42c054014e1",
   "metadata": {
    "tags": []
   },
   "outputs": [],
   "source": [
    "## transform the images through Compose\n",
    "val_transforms = Compose(\n",
    "    [\n",
    "        LoadImaged(keys=[\"image\", \"label\"]),  ## keys include image and label with image first\n",
    "        EnsureChannelFirstd(keys=[\"image\", \"label\"]),\n",
    "        Spacingd(keys=[\"image\", \"label\"], pixdim=(\n",
    "            1.5, 1.5, 2.0), mode=(\"bilinear\", \"nearest\")),\n",
    "        Orientationd(keys=[\"image\", \"label\"], axcodes=\"RAS\"),\n",
    "        ScaleIntensityRanged(\n",
    "            keys=[\"image\"], a_min=-57, a_max=164,\n",
    "            b_min=0.0, b_max=1.0, clip=True,\n",
    "        ),\n",
    "        CropForegroundd(keys=[\"image\", \"label\"], source_key=\"image\"),\n",
    "        EnsureTyped(keys=[\"image\", \"label\"]),\n",
    "    ]\n",
    ")"
   ]
  },
  {
   "cell_type": "code",
   "execution_count": null,
   "id": "4e83858a-77e6-4946-a505-0f1e6f433f04",
   "metadata": {
    "tags": []
   },
   "outputs": [],
   "source": [
    "train_images = sorted(\n",
    "    glob.glob(os.path.join(data_dir, \"datasets/Task09_Spleen/imagesTr\", \"*.nii.gz\")))\n",
    "train_labels = sorted(\n",
    "    glob.glob(os.path.join(data_dir, \"datasets/Task09_Spleen/labelsTr\", \"*.nii.gz\")))\n",
    "data_dicts = [\n",
    "    {\"image\": image_name, \"label\": label_name}\n",
    "    for image_name, label_name in zip(train_images, train_labels)\n",
    "]\n",
    "train_files, test_demo_files = data_dicts[:-1], data_dicts[-1:]"
   ]
  },
  {
   "cell_type": "code",
   "execution_count": null,
   "id": "42e8cf93-deae-4b4e-bffd-170094e7f3dc",
   "metadata": {
    "tags": []
   },
   "outputs": [],
   "source": [
    "check_ds = Dataset(data=test_demo_files, transform=val_transforms)\n",
    "check_loader = DataLoader(check_ds, batch_size=1)\n",
    "check_data = first(check_loader)\n",
    "\n",
    "image, label = (check_data[\"image\"][0][0], check_data[\"label\"][0][0])\n",
    "print(f\"image shape: {image.shape}, label shape: {label.shape}\")\n",
    "\n",
    "# plot only the slice [:, :, 80]\n",
    "plt.figure(\"check\", (12, 6))\n",
    "plt.subplot(1, 2, 1)\n",
    "plt.title(\"image\")\n",
    "plt.imshow(image[:, :, 80], cmap=\"gray\")\n",
    "plt.subplot(1, 2, 2)\n",
    "plt.title(\"label\")\n",
    "plt.imshow(label[:, :, 80])\n",
    "plt.show()"
   ]
  },
  {
   "cell_type": "markdown",
   "id": "8ec3637d-7525-400b-8790-1f584df93e21",
   "metadata": {},
   "source": [
    "### 데이터 저장 및 s3 업로드\n",
    "\n",
    "- 전처리 데이터를 train, test (여기서는 1개만 사용) 로 나누어서 저장합니다.\n"
   ]
  },
  {
   "cell_type": "code",
   "execution_count": null,
   "id": "8e7b2720-5880-43d2-a51d-d08c33369eb5",
   "metadata": {
    "tags": []
   },
   "outputs": [],
   "source": [
    "prefix = \"medical_segmentation/monai_spleen_3d\"\n",
    "\n",
    "processed_train_path = os.path.join(data_dir,\"processed\",\"train\")\n",
    "processed_test_path = os.path.join(data_dir,\"processed\",\"test\")\n",
    "\n",
    "processed_train_images_path = os.path.join(processed_train_path, \"imagesTr\")\n",
    "processed_train_labels_path = os.path.join(processed_train_path, \"labelsTr\")\n",
    "\n",
    "processed_test_images_path = os.path.join(processed_test_path, \"imagesTr\")\n",
    "processed_test_labels_path = os.path.join(processed_test_path, \"labelsTr\")\n",
    "\n",
    "Path(processed_train_images_path).mkdir(parents=True, exist_ok=True)\n",
    "Path(processed_train_labels_path).mkdir(parents=True, exist_ok=True)\n",
    "print(\"Directory '%s' created\" %processed_train_path)\n",
    "\n",
    "Path(processed_test_images_path).mkdir(parents=True, exist_ok=True)\n",
    "Path(processed_test_labels_path).mkdir(parents=True, exist_ok=True)\n",
    "print(\"Directory '%s' created\" %processed_test_path)"
   ]
  },
  {
   "cell_type": "code",
   "execution_count": null,
   "id": "b8e36eb7-d078-4351-9e03-6f599c31d953",
   "metadata": {
    "tags": []
   },
   "outputs": [],
   "source": [
    "## copy dataset for training \n",
    "for file in train_files:\n",
    "    images = file[\"image\"]\n",
    "    images_dest = processed_train_images_path\n",
    "    label = file[\"label\"]\n",
    "    label_dest = processed_train_labels_path\n",
    "    shutil.copy(images,images_dest)\n",
    "    shutil.copy(label,label_dest)"
   ]
  },
  {
   "cell_type": "code",
   "execution_count": null,
   "id": "7fccac3b-cc9d-4b34-ae47-96d65b6d7ae8",
   "metadata": {
    "tags": []
   },
   "outputs": [],
   "source": [
    "## copy dataset for training \n",
    "for file in test_demo_files:\n",
    "    images = file[\"image\"]\n",
    "    images_dest = processed_test_images_path\n",
    "    label = file[\"label\"]\n",
    "    label_dest = processed_test_labels_path\n",
    "    shutil.copy(images,images_dest)\n",
    "    shutil.copy(label,label_dest)"
   ]
  },
  {
   "cell_type": "code",
   "execution_count": null,
   "id": "90a72915-11bf-4f80-979c-666837c68d4b",
   "metadata": {},
   "outputs": [],
   "source": []
  },
  {
   "cell_type": "markdown",
   "id": "ac17defc-19c4-41d6-a30a-abfda14d08f4",
   "metadata": {
    "tags": []
   },
   "source": [
    "### Local 에서 테스트 진행\n",
    "\n",
    "- 앞의 과정에서 전처리 데이터를 저장해 놓았기 때문에, 일반적인 방식 (IDE로 작업 후 CLI 등을 활용해서 training을 진행) 으로 학습이 가능해 졌습니다.\n",
    "- `code` 디렉토리의 `run_local_train.sh` 을 참고해서 local 에서 학습이 잘 돌아가는지 확인 해 봅니다.\n",
    "- 실행 시 에러가 발생할 경우 해당 스크립트에 있는 이슈를 참고하면 됩니다.\n",
    "\n",
    "### S3에 데이터 업로드\n",
    "- 정상적으로 동작하는 것을 확인했다면, SageMaker managed training을 위해서 s3에 업로드 해 놓도록 합니다."
   ]
  },
  {
   "cell_type": "code",
   "execution_count": null,
   "id": "aaa2346a-c3e0-4cca-83d2-5708773f070e",
   "metadata": {
    "tags": []
   },
   "outputs": [],
   "source": [
    "import sagemaker\n",
    "\n",
    "sess = sagemaker.Session()\n",
    "bucket = sess.default_bucket()"
   ]
  },
  {
   "cell_type": "code",
   "execution_count": null,
   "id": "255fe1ee-67ca-477f-8eb1-826ca2bd2040",
   "metadata": {
    "tags": []
   },
   "outputs": [],
   "source": [
    "## upload training dataset to S3\n",
    "s3_inputs = sess.upload_data(\n",
    "    path=processed_train_path,\n",
    "    key_prefix=f\"{prefix}/train\",\n",
    "    bucket=bucket \n",
    ")\n",
    "\n",
    "## upload testing dataset to S3\n",
    "s3_demo_test = sess.upload_data(\n",
    "    path=processed_test_images_path,\n",
    "    key_prefix=f\"{prefix}/test\",\n",
    "    bucket=bucket \n",
    ")"
   ]
  },
  {
   "cell_type": "code",
   "execution_count": null,
   "id": "a1fa8036-7c82-4f47-8518-1b21fec2a08c",
   "metadata": {
    "tags": []
   },
   "outputs": [],
   "source": [
    "print(s3_inputs)\n",
    "print(s3_demo_test)"
   ]
  },
  {
   "cell_type": "code",
   "execution_count": null,
   "id": "1a36d294-680b-4fa2-9a07-d243b20a4744",
   "metadata": {
    "tags": []
   },
   "outputs": [],
   "source": [
    "%store s3_inputs\n",
    "%store bucket"
   ]
  },
  {
   "cell_type": "code",
   "execution_count": null,
   "id": "5140b4b7-9018-4d35-b6ea-5daae320b5db",
   "metadata": {
    "tags": []
   },
   "outputs": [],
   "source": [
    "%store prefix\n",
    "%store test_demo_files\n",
    "%store check_ds\n",
    "%store check_loader\n",
    "%store check_data"
   ]
  },
  {
   "cell_type": "code",
   "execution_count": null,
   "id": "df7fd9ae-468e-4a83-85e4-58ed36f50293",
   "metadata": {},
   "outputs": [],
   "source": []
  },
  {
   "cell_type": "code",
   "execution_count": null,
   "id": "74ae3b98-0301-4f9d-beb7-c952bac8eb5a",
   "metadata": {},
   "outputs": [],
   "source": []
  }
 ],
 "metadata": {
  "kernelspec": {
   "display_name": "conda_pytorch_p310",
   "language": "python",
   "name": "conda_pytorch_p310"
  },
  "language_info": {
   "codemirror_mode": {
    "name": "ipython",
    "version": 3
   },
   "file_extension": ".py",
   "mimetype": "text/x-python",
   "name": "python",
   "nbconvert_exporter": "python",
   "pygments_lexer": "ipython3",
   "version": "3.10.12"
  }
 },
 "nbformat": 4,
 "nbformat_minor": 5
}
