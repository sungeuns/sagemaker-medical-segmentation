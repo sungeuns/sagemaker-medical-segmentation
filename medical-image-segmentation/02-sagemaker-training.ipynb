{
 "cells": [
  {
   "cell_type": "markdown",
   "id": "ff3f1f99-dad5-4d8f-9946-93842d16cfba",
   "metadata": {},
   "source": [
    "\n",
    "## SageMaker managed training\n",
    "\n",
    "- SageMaker에서 training을 진행하는 예시입니다.\n",
    "- 기존의 training script를 일부만 수정하여 곧바로 SageMaker의 managed training 기능을 활용할 수 있습니다.\n",
    "- `code` 디렉토리의 `train.py` 과 `local_train.py`를 비교 해 보세요.\n",
    "- monai를 활용한 학습 코드 예시는 여기 [spleen_segmentation_3d notebook](https://github.com/Project-MONAI/tutorials/blob/master/3d_segmentation/spleen_segmentation_3d.ipynb) 를 참고해 주세요."
   ]
  },
  {
   "cell_type": "code",
   "execution_count": null,
   "id": "99755ef3-2cd6-41a3-9d92-c50a4d571023",
   "metadata": {
    "tags": []
   },
   "outputs": [],
   "source": [
    "%store -r"
   ]
  },
  {
   "cell_type": "code",
   "execution_count": null,
   "id": "ee614456-1b42-4ece-9130-d49a1501efb0",
   "metadata": {
    "tags": []
   },
   "outputs": [],
   "source": [
    "s3_inputs"
   ]
  },
  {
   "cell_type": "code",
   "execution_count": null,
   "id": "36dda621-a4c9-454e-aa00-115744866fdf",
   "metadata": {
    "tags": []
   },
   "outputs": [],
   "source": [
    "import sagemaker \n",
    "from sagemaker import get_execution_role\n",
    "from sagemaker.pytorch import PyTorch"
   ]
  },
  {
   "cell_type": "code",
   "execution_count": null,
   "id": "956c0762-d486-45a7-8c1e-b2555761e896",
   "metadata": {
    "tags": []
   },
   "outputs": [],
   "source": [
    "role = get_execution_role()\n",
    "sess = sagemaker.Session()\n",
    "region = sess.boto_session.region_name\n",
    "bucket = sess.default_bucket()"
   ]
  },
  {
   "cell_type": "markdown",
   "id": "ff710dc0-a363-4ac5-a2e7-459ce9604eb6",
   "metadata": {},
   "source": [
    "### Estimator 정의 및 학습\n",
    "\n",
    "- SageMaker training container를 활용할 estimator를 정의합니다.\n",
    "- 이 때 training script 및 framework 버전, instance type 및 개수 등을 정의해 주게 됩니다.\n",
    "- 사용하는 instance 는 service quota 에서 가능한지 확인이 필요합니다. quota가 모자란 경우 resource limit 에 의한 에러가 발생합니다.\n",
    "\n",
    "### 학습 코드\n",
    "\n",
    "- 아래 예시 코드에서 학습은 로컬 디렉토리의 `code/train.py` 가 entry point 가 됩니다. 해당 파일을 확인 해 보세요.\n",
    "- 필요한 패키지는 `code/requirements.txt` 에 명시함으로 학습이 시작됟기 전에 미리 설치됩니다. 이러한 방식으로 해결이 되지 않거나 설치 시간 등을 줄이고 싶은 경우 custom container를 만들어서 하면 됩니다."
   ]
  },
  {
   "cell_type": "code",
   "execution_count": null,
   "id": "d827be4b-076a-4b4e-b749-77c6deb98dcd",
   "metadata": {
    "tags": []
   },
   "outputs": [],
   "source": [
    "\n",
    "metrics=[\n",
    "   {\"Name\": \"train:average epoch loss\", \"Regex\": \"average loss: ([0-9\\\\.]*)\"},\n",
    "   {\"Name\": \"train:current mean dice\", \"Regex\": \"current mean dice: ([0-9\\\\.]*)\"},\n",
    "   {\"Name\": \"train:best mean dice\", \"Regex\": \"best mean dice: ([0-9\\\\.]*)\"}\n",
    "]\n",
    "\n",
    "hyperparams = {\n",
    "    \"seed\": 123,\n",
    "    \"lr\": 0.001,\n",
    "    # \"epochs\": 5,\n",
    "    \"epochs\": 75\n",
    "}\n",
    "\n",
    "instance_type = \"ml.g5.2xlarge\"\n",
    "# instance_type = \"ml.p3.2xlarge\"\n",
    "\n",
    "estimator = PyTorch(source_dir=\"code\",\n",
    "                    entry_point=\"train.py\",\n",
    "                    role=role,\n",
    "                    framework_version=\"1.13.1\",\n",
    "                    py_version=\"py39\",\n",
    "                    instance_count=1,\n",
    "                    instance_type=instance_type,\n",
    "                    hyperparameters=hyperparams,\n",
    "                    metric_definitions=metrics)\n",
    "\n",
    "\n",
    "# framework_version=\"1.6.0\",\n",
    "# py_version=\"py3\",\n",
    "### spot instance training ###\n",
    "# use_spot_instances=True,\n",
    "# max_run=2400,\n",
    "# max_wait=2400\n"
   ]
  },
  {
   "cell_type": "markdown",
   "id": "c20f5ec0-2518-4eb7-bff6-55ed8d2831b0",
   "metadata": {},
   "source": [
    "### Training 진행\n",
    "\n",
    "- `fit()` 함수를 호출하여 학습을 시작할 수 있습니다.\n",
    "- 여기서는 학습 데이터가 있는 s3경로를 주었습니다. 이 값은 dict 형태로 다양한 파라미터를 넘겨준 후 training job 내에서 사용될 수 있습니다.\n",
    "- 자세한 내용은 [Estimator](https://sagemaker.readthedocs.io/en/stable/api/training/estimators.html) 를 참고해 주세요."
   ]
  },
  {
   "cell_type": "code",
   "execution_count": null,
   "id": "c429bb4e-f162-4a57-81c2-7a6be2615499",
   "metadata": {
    "tags": []
   },
   "outputs": [],
   "source": [
    "# estimator.fit(s3_inputs, wait=False)\n",
    "estimator.fit(s3_inputs)"
   ]
  },
  {
   "cell_type": "code",
   "execution_count": null,
   "id": "beef6d45-68c4-4e47-a70b-a608bd947796",
   "metadata": {},
   "outputs": [],
   "source": []
  },
  {
   "cell_type": "code",
   "execution_count": null,
   "id": "74d8f129-e695-4f6b-af97-2acbf5cbf01d",
   "metadata": {},
   "outputs": [],
   "source": []
  }
 ],
 "metadata": {
  "kernelspec": {
   "display_name": "conda_pytorch_p310",
   "language": "python",
   "name": "conda_pytorch_p310"
  },
  "language_info": {
   "codemirror_mode": {
    "name": "ipython",
    "version": 3
   },
   "file_extension": ".py",
   "mimetype": "text/x-python",
   "name": "python",
   "nbconvert_exporter": "python",
   "pygments_lexer": "ipython3",
   "version": "3.10.12"
  }
 },
 "nbformat": 4,
 "nbformat_minor": 5
}
